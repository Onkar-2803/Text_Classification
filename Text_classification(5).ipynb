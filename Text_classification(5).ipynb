{
  "nbformat": 4,
  "nbformat_minor": 0,
  "metadata": {
    "colab": {
      "name": "Text classification(5).ipynb",
      "provenance": [],
      "mount_file_id": "1HYasuEd40iVhXxsmKbmZf91-yeLn6T3S",
      "authorship_tag": "ABX9TyMOP5Gea2eXY/NkKDBQbWBy"
    },
    "kernelspec": {
      "name": "python3",
      "display_name": "Python 3"
    }
  },
  "cells": [
    {
      "cell_type": "markdown",
      "metadata": {
        "id": "JVQKjLh1Yo1K",
        "colab_type": "text"
      },
      "source": [
        "Testing how our model works against new data"
      ]
    },
    {
      "cell_type": "code",
      "metadata": {
        "id": "MeW7Z-y9Y-rf",
        "colab_type": "code",
        "colab": {}
      },
      "source": [
        "#Importing libraries\n",
        "\n",
        "import pickle\n",
        "import pandas as pd\n",
        "import nltk\n",
        "from nltk.corpus import stopwords\n",
        "from nltk.tokenize import punkt\n",
        "from nltk.corpus.reader import wordnet\n",
        "from nltk.stem import WordNetLemmatizer\n",
        "from sklearn.feature_extraction.text import TfidfVectorizer"
      ],
      "execution_count": null,
      "outputs": []
    },
    {
      "cell_type": "code",
      "metadata": {
        "id": "eb_hOTexZHNI",
        "colab_type": "code",
        "colab": {}
      },
      "source": [
        "#Loading data\n",
        "\n",
        "# SVM\n",
        "path_svm = '/content/drive/My Drive/Pickles/best_svc.pickle'\n",
        "with open(path_svm, 'rb') as data:\n",
        "    svc_model = pickle.load(data)\n",
        "\n",
        "#tdf\n",
        "path_tfidf = \"/content/drive/My Drive/Pickles/tfidf.pickle\"\n",
        "with open(path_tfidf, 'rb') as data:\n",
        "    tfidf = pickle.load(data)    "
      ],
      "execution_count": null,
      "outputs": []
    },
    {
      "cell_type": "code",
      "metadata": {
        "id": "WrLn1mIjZsoe",
        "colab_type": "code",
        "colab": {}
      },
      "source": [
        "#Category Mapping\n",
        "\n",
        "\n",
        "category_codes = {\n",
        "    'business': 0,\n",
        "    'entertainment': 1,\n",
        "    'politics': 2,\n",
        "    'sport': 3,\n",
        "    'tech': 4\n",
        "}"
      ],
      "execution_count": null,
      "outputs": []
    },
    {
      "cell_type": "code",
      "metadata": {
        "id": "vL1n8RTIZ4Ee",
        "colab_type": "code",
        "colab": {
          "base_uri": "https://localhost:8080/",
          "height": 90
        },
        "outputId": "19ca46fc-d549-4fd3-b8ed-c5d9a5d3b171"
      },
      "source": [
        "#Feature Engineering\n",
        "\n",
        "nltk.download('stopwords')\n",
        "punctuation_signs = list(\"?:!.,;\")\n",
        "stop_words = list(stopwords.words('english'))\n",
        "nltk.download('wordnet')\n",
        "\n",
        "def create_features_from_text(text):\n",
        "    \n",
        "    # Dataframe creation\n",
        "    lemmatized_text_list = []\n",
        "    df = pd.DataFrame(columns=['Content'])\n",
        "    df.loc[0] = text\n",
        "    df['Content_Parsed_1'] = df['Content'].str.replace(\"\\r\", \" \")\n",
        "    df['Content_Parsed_1'] = df['Content_Parsed_1'].str.replace(\"\\n\", \" \")\n",
        "    df['Content_Parsed_1'] = df['Content_Parsed_1'].str.replace(\"    \", \" \")\n",
        "    df['Content_Parsed_1'] = df['Content_Parsed_1'].str.replace('\"', '')\n",
        "    df['Content_Parsed_2'] = df['Content_Parsed_1'].str.lower()\n",
        "    df['Content_Parsed_3'] = df['Content_Parsed_2']\n",
        "    for punct_sign in punctuation_signs:\n",
        "        df['Content_Parsed_3'] = df['Content_Parsed_3'].str.replace(punct_sign, '')\n",
        "    df['Content_Parsed_4'] = df['Content_Parsed_3'].str.replace(\"'s\", \"\")\n",
        "    wordnet_lemmatizer = WordNetLemmatizer()\n",
        "    lemmatized_list = []\n",
        "    text = df.loc[0]['Content_Parsed_4']\n",
        "    text_words = text.split(\" \")\n",
        "    for word in text_words:\n",
        "        lemmatized_list.append(wordnet_lemmatizer.lemmatize(word, pos=\"v\"))\n",
        "    lemmatized_text = \" \".join(lemmatized_list)    \n",
        "    lemmatized_text_list.append(lemmatized_text)\n",
        "    df['Content_Parsed_5'] = lemmatized_text_list\n",
        "    df['Content_Parsed_6'] = df['Content_Parsed_5']\n",
        "    for stop_word in stop_words:\n",
        "        regex_stopword = r\"\\b\" + stop_word + r\"\\b\"\n",
        "        df['Content_Parsed_6'] = df['Content_Parsed_6'].str.replace(regex_stopword, '')\n",
        "    df = df['Content_Parsed_6']\n",
        "    #df = df.rename(columns={'Content_Parsed_6': 'Content_Parsed'})\n",
        "    \n",
        "    # TF-IDF\n",
        "    features = tfidf.transform(df).toarray()\n",
        "    \n",
        "    return features"
      ],
      "execution_count": null,
      "outputs": [
        {
          "output_type": "stream",
          "text": [
            "[nltk_data] Downloading package stopwords to /root/nltk_data...\n",
            "[nltk_data]   Unzipping corpora/stopwords.zip.\n",
            "[nltk_data] Downloading package wordnet to /root/nltk_data...\n",
            "[nltk_data]   Unzipping corpora/wordnet.zip.\n"
          ],
          "name": "stdout"
        }
      ]
    },
    {
      "cell_type": "code",
      "metadata": {
        "id": "E1_SexPVaBzv",
        "colab_type": "code",
        "colab": {}
      },
      "source": [
        "def get_category_name(category_id):\n",
        "    for category, id_ in category_codes.items():    \n",
        "        if id_ == category_id:\n",
        "            return category"
      ],
      "execution_count": null,
      "outputs": []
    },
    {
      "cell_type": "code",
      "metadata": {
        "id": "TcV7KcVEaRJR",
        "colab_type": "code",
        "colab": {}
      },
      "source": [
        "def predict_from_text(text):\n",
        "    \n",
        "    # Predict using the input model\n",
        "    prediction_svc = svc_model.predict(create_features_from_text(text))[0]\n",
        "    prediction_svc_proba = svc_model.predict_proba(create_features_from_text(text))[0]\n",
        "    \n",
        "    # Return result\n",
        "    category_svc = get_category_name(prediction_svc)\n",
        "    \n",
        "    print(\"The predicted category using the SVM model is %s.\" %(category_svc) )\n",
        "    print(\"The conditional probability is: %a\" %(prediction_svc_proba.max()*100))"
      ],
      "execution_count": null,
      "outputs": []
    },
    {
      "cell_type": "markdown",
      "metadata": {
        "id": "0Df2E_QTaWPE",
        "colab_type": "text"
      },
      "source": [
        "Text Introduction and predicition"
      ]
    },
    {
      "cell_type": "markdown",
      "metadata": {
        "id": "Jjq8asD4anqI",
        "colab_type": "text"
      },
      "source": [
        "1) Articles that clearly belong to one of the five categories"
      ]
    },
    {
      "cell_type": "code",
      "metadata": {
        "id": "1LW40D9kaf0a",
        "colab_type": "code",
        "colab": {
          "base_uri": "https://localhost:8080/",
          "height": 335
        },
        "outputId": "f5e7f880-ba9e-46a4-8044-f0f7a317967b"
      },
      "source": [
        "# Politics\n",
        "\n",
        "text = \"\"\"Disputes have already broken out within the new political alliance that is working to end 36 years of rule by the Socialist Party (PSOE) in Spain’s southern region of Andalusia.\n",
        "\n",
        "Just hours after the far-right Vox agreed to support the Popular Party (PP)’s candidate to head the region, Juan Manuel Moreno, its demand for a specific regional department for family affairs is running into opposition from Ciudadanos (Citizens), the third party involved in the government change.\n",
        "\n",
        "These early clashes suggest it could be difficult to export the model to other parts of Spain\n",
        "\n",
        "The PP and the liberal Ciudadanos have reached their own governing agreement in the wake of an election that undermined the Socialists’ hold on power, but they need support from Vox’s 12 newly elected lawmakers to make it a reality.\n",
        "\n",
        "Ciudadanos has refused point-blank to meet with Vox representatives, but the PP has struck its own parallel deal with the far right to ensure its support at the investiture debate, which will take place on January 15 and 16.\n",
        "\n",
        "On Friday morning, Juan Marín of Ciudadanos said that there are no plans for a separate family affairs department within the government structure they have devised with their PP partners, and which does not include Vox.\n",
        "\n",
        "The reform party has insisted that the Vox-PP deal does not affect them at all, and Ciudadanos’ national leader, Albert Rivera, said on Thursday that Vox “has had to take a step back, correct itself, and sheathe its sword,” alluding to the fact that Vox has dropped some of its most radical demands such as the deportation of 52,000 undocumented migrants.\n",
        "\n",
        " Vox national leader Santiago Abascal (c) and Andalusian leader Francisco Serrano (r).\n",
        "Vox national leader Santiago Abascal (c) and Andalusian leader Francisco Serrano (r). REUTERS\n",
        "But Vox insists on a family department, and said it will expect loyalty from the PP on this issue. Meanwhile, Ciudadanos has also warned it will not support the PP-Vox proposal to change the historical memory law for a “concord law.”\n",
        "\n",
        "These early clashes suggest it could be difficult to export the model to other parts of Spain, where local and regional elections are scheduled to be held this year. The PP president, Pablo Casado, said on Thursday that their separate deals with Ciudadanos and Vox in Andalusia are “a preamble of what’s going to happen in May in Spain.”\n",
        "\n",
        "The PP is anxious to win back power in regions like Valencia, the Balearic Islands, Castilla-La Mancha, Aragón and Cantabria, and to retain it in Madrid, Murcia, La Rioja and Castilla y León.\n",
        "\n",
        "Parliamentary debate\n",
        "The PSOE has already digested the fact that it is losing its hold on Spain’s most populated region. “We will conduct a responsible opposition, and remain vigilant about defending self-government and Andalusia’s presence in Spain,” said the party’s parliamentary spokesman, Mario Jiménez.\n",
        "\n",
        "The Socialists will not be putting forward a candidate, now that the PP nominee has enough support for an absolute majority in the first round. The debates will take place on January 15 and 16, followed by a vote, said Speaker Marta Bosquet.\n",
        "\n",
        "The sum of the PP, Ciudadanos and Vox votes is four above the 55 required for a majority. The PSOE lost 14 seats at the December 2 election, down to 33. The Podemos-backed Adelante Andalucía has 17 lawmakers.\n",
        "\n",
        "\"\"\"\n",
        "\n",
        "predict_from_text(text)\n"
      ],
      "execution_count": null,
      "outputs": [
        {
          "output_type": "error",
          "ename": "NameError",
          "evalue": "ignored",
          "traceback": [
            "\u001b[0;31m---------------------------------------------------------------------------\u001b[0m",
            "\u001b[0;31mNameError\u001b[0m                                 Traceback (most recent call last)",
            "\u001b[0;32m<ipython-input-5-a8a142305b2b>\u001b[0m in \u001b[0;36m<module>\u001b[0;34m()\u001b[0m\n\u001b[1;32m     32\u001b[0m \"\"\"\n\u001b[1;32m     33\u001b[0m \u001b[0;34m\u001b[0m\u001b[0m\n\u001b[0;32m---> 34\u001b[0;31m \u001b[0mpredict_from_text\u001b[0m\u001b[0;34m(\u001b[0m\u001b[0mtext\u001b[0m\u001b[0;34m)\u001b[0m\u001b[0;34m\u001b[0m\u001b[0;34m\u001b[0m\u001b[0m\n\u001b[0m",
            "\u001b[0;32m<ipython-input-4-12498bf8716b>\u001b[0m in \u001b[0;36mpredict_from_text\u001b[0;34m(text)\u001b[0m\n\u001b[1;32m      2\u001b[0m \u001b[0;34m\u001b[0m\u001b[0m\n\u001b[1;32m      3\u001b[0m     \u001b[0;31m# Predict using the input model\u001b[0m\u001b[0;34m\u001b[0m\u001b[0;34m\u001b[0m\u001b[0;34m\u001b[0m\u001b[0m\n\u001b[0;32m----> 4\u001b[0;31m     \u001b[0mprediction_svc\u001b[0m \u001b[0;34m=\u001b[0m \u001b[0msvc_model\u001b[0m\u001b[0;34m.\u001b[0m\u001b[0mpredict\u001b[0m\u001b[0;34m(\u001b[0m\u001b[0mcreate_features_from_text\u001b[0m\u001b[0;34m(\u001b[0m\u001b[0mtext\u001b[0m\u001b[0;34m)\u001b[0m\u001b[0;34m)\u001b[0m\u001b[0;34m[\u001b[0m\u001b[0;36m0\u001b[0m\u001b[0;34m]\u001b[0m\u001b[0;34m\u001b[0m\u001b[0;34m\u001b[0m\u001b[0m\n\u001b[0m\u001b[1;32m      5\u001b[0m     \u001b[0mprediction_svc_proba\u001b[0m \u001b[0;34m=\u001b[0m \u001b[0msvc_model\u001b[0m\u001b[0;34m.\u001b[0m\u001b[0mpredict_proba\u001b[0m\u001b[0;34m(\u001b[0m\u001b[0mcreate_features_from_text\u001b[0m\u001b[0;34m(\u001b[0m\u001b[0mtext\u001b[0m\u001b[0;34m)\u001b[0m\u001b[0;34m)\u001b[0m\u001b[0;34m[\u001b[0m\u001b[0;36m0\u001b[0m\u001b[0;34m]\u001b[0m\u001b[0;34m\u001b[0m\u001b[0;34m\u001b[0m\u001b[0m\n\u001b[1;32m      6\u001b[0m \u001b[0;34m\u001b[0m\u001b[0m\n",
            "\u001b[0;31mNameError\u001b[0m: name 'svc_model' is not defined"
          ]
        }
      ]
    },
    {
      "cell_type": "code",
      "metadata": {
        "id": "j4SSgU-savlL",
        "colab_type": "code",
        "colab": {
          "base_uri": "https://localhost:8080/",
          "height": 54
        },
        "outputId": "43677e41-9e81-441d-d553-a4e74338aaaa"
      },
      "source": [
        "#Sports\n",
        "\n",
        "text = \"\"\"Barcelona is unwavering in its intention to keep Lionel Messi and will not facilitate his departure. Spanish media reports said Messi has contacted the club to try to resolve the situation. Barcelona said Saturday that it will not negotiate to allow the Argentina great to depart before his contract ends next year.\n",
        "\n",
        "Messi is not expected to report to the club on Sunday for scheduled coronavirus testing that is required for the entire squad before training can resume next week, according to Catalan radio RAC1.\n",
        "\n",
        "Earlier this week, Messi said he wanted to invoke a contract clause that allowed him to leave at the end of last season, but the club said the clause had already expired.\n",
        "\n",
        "A lengthy legal battle may ensue as the 33-year-old forward is expected to say the clause was valid until the end of the season, which was pushed back because of the pandemic.\n",
        "Barcelona is not willing to give up on the player, especially not for free. Messi’s contract, which ends in June 2021, has a buyout clause of 700 million euros ($830 million). He has been with the club for nearly two decades, leading it to more than three-dozen titles and holding most of its individual records.\n",
        "\n",
        "Spanish media said Messi and his team of lawyers contacted the club late this week to try to discuss his situation. He had announced his intention to leave by sending the club a burofax, a certified document similar to a telegram.\n",
        "\n",
        "Barcelona president Josep Bartomeu reportedly tried to meet with the player after his decision to leave was announced. He later said he was willing to resign if that was what it took to get Messi to stay, and if the six-time Ballon D’Or winner admitted the president’s presence at the club was the reason he wanted to leave.\n",
        "Messi reportedly talked to new coach Ronald Koeman before making his decision to leave.\n",
        "\n",
        "Messi hasn’t spoken publicly since the embarrassing 8-2 loss to Bayern Munich in the quarterfinals of the Champions League on Aug. 14, one of the worst defeats in the player’s career and in the club’s history.\n",
        "\n",
        "He was outspoken against some of the club’s decisions this season, the first without a title since 2007-08.\n",
        "Spanish radio station SER said on Saturday that Barcelona was ending its contract with its current law firm because it also worked for Messi.\n",
        "\n",
        "Training for Barcelona is scheduled to resume on Monday ahead of the start of the Spanish league season on the second weekend of September.\n",
        "\n",
        "\"\"\"\n",
        "\n",
        "predict_from_text(text)"
      ],
      "execution_count": null,
      "outputs": [
        {
          "output_type": "stream",
          "text": [
            "The predicted category using the SVM model is sport.\n",
            "The conditional probability is: 98.87809165814853\n"
          ],
          "name": "stdout"
        }
      ]
    },
    {
      "cell_type": "code",
      "metadata": {
        "id": "U_A9ryMEUwMJ",
        "colab_type": "code",
        "colab": {
          "base_uri": "https://localhost:8080/",
          "height": 54
        },
        "outputId": "5db60a37-854c-4ca1-9745-22be30773f0e"
      },
      "source": [
        "# Sports\n",
        "\n",
        "text = \"\"\"\n",
        "Spain has agreed to host the soccer final of the Copa Libertadores between Argentina teams River Plate and Boca Juniors. The match will take place on December 9 at the Santiago Bernabéu stadium in Madrid.\n",
        "\n",
        "The final in Madrid is a punch in the soul to all fans of soccer in Argentina\n",
        "\n",
        "ONLINE SPORTS DAILY OLE\n",
        "\n",
        "The final was set to take place in Argentina but was suspended twice after fans turned violent. The first time, on November 25, riot police were called in after supporters of River began throwing stones and bottles at the bus carrying Boca players. Pepper spray used to control the crowds ended up affecting members of the soccer team. The players later shared photos of their injuries. The match was rescheduled but again had to be suspended after fans descended into violence.\n",
        "\n",
        "In view of the insecurity, the South American Football Confederation (Conmebol), which organizes the competition, decided the only solution was to hold the game in a different country. On Thursday, Spanish Prime Minister Pedro Sánchez said Spain would be “willing to organize the Copa Libertadores final between River and Boca” in a message on Twitter, and an hour later Conmebol president Alejandro Domínguez confirmed the game would take place in Madrid.\n",
        "\n",
        " Embedded video\n",
        "\n",
        "Sebastián Lisiecki\n",
        "@sebalisiecki\n",
        " Así fue la llegada de Boca al Monumental. Pésimo la seguridad q los mete entre toda la gente de River, los jugadores no tienen q hacer gestos, tienen q.jugar adentro. La Policía no controló y después tiró gas pimienta. Insólito todo. Quinto mundo\n",
        "\n",
        "575\n",
        "7:23 PM - Nov 24, 2018\n",
        "637 people are talking about this\n",
        "Twitter Ads info and privacy\n",
        "This was how Boca arrived at Monumental stadium. The security that got between the all people of River was terrible. Players shouldn't have to make gesture, they should play. The police did not control the situation and then pepper gas was thrown. Unbelievable. Fifth world.\n",
        "\n",
        "This is the first time a Copa Libertadores game has been played outside the Americas since the competition began in 1960. Domínguez however was positive about the decision: “[Madrid] has the largest Argentine community overseas, Barajas is the airport with the best connection to Latin America, and it is a city with a great soccer culture.”\n",
        "\n",
        "But the feeling in Argentina has been less optimistic. The national newspaper La Nación wrote that “it represents, in some way, the structural failure of our soccer, which is unable to organize the best final in the history of the [Copa] Libertadores.” Online sports daily Ole agreed: “The final in Madrid is a punch in the soul to all fans of soccer in Argentina. Ten thousands kilometers away, River-Boca is an unhappy attempt to transform the classic into a Champions League event.” According to a survey run by Ole, 76% of respondents think it is bad that the game has been moved to Spain.\n",
        "\n",
        "Security risk\n",
        "In a message on Twitter, Sánchez promised that \"security forces have extensive experience of these situations and are already working on the necessary deployments to ensure the event is secure.\" Despite these assurances, there are concerns there is not enough time to properly secure the event. According to sources familiar with the security operations, between four and six weeks are needed to analyze the security needs of high-risk sporting stadiums and the ensuing preparations can take up to eight months. In the case of the Copa Libertadores final, security officials will have just days to prepare.\n",
        "\n",
        "River and Boca have a long-standing rivalry fueled largely by the class divide between the teams – River attracts wealthy, upper-class supporters while Boca is known for its working-class fans.\n",
        "\n",
        "Scheduling issues\n",
        "The final will take place on Sunday, December 9, on the final day of a three-day national holiday in Spain for Constitution Day on December 6. Madrid receives its highest number of visitors in these dates. In 2017, 600,000 visitors came to the capital, and the hotel occupancy rate was over 80%.\n",
        "\n",
        " Conmebol president Alejandro Domínguez on Tuesday.\n",
        "Conmebol president Alejandro Domínguez on Tuesday.\n",
        "Many details about the game have yet to be revealed, including how tickets will be sold, what system will be used and who can buy tickets. In Argentina, fans of the visiting team are banned from the stadiums.\n",
        "\n",
        "Conmebol and soccer club representatives began considering destinations for the match on Tuesday including Doha, the capital of Qatar and the host of the 2022 FIFA World Cup, which offered attractive economic incentives and Miami, which was ruled out by the US Soccer Federation.\n",
        "\n",
        "\n",
        "\n",
        "\"\"\"\n",
        "\n",
        "predict_from_text(text)"
      ],
      "execution_count": null,
      "outputs": [
        {
          "output_type": "stream",
          "text": [
            "The predicted category using the SVM model is sport.\n",
            "The conditional probability is: 74.85727548031265\n"
          ],
          "name": "stdout"
        }
      ]
    },
    {
      "cell_type": "markdown",
      "metadata": {
        "id": "fhQUkduvUyTl",
        "colab_type": "text"
      },
      "source": [
        "We can see that in almost every case the highest conditional probability is higher than 90%. In the sports article it falls down to 75%."
      ]
    },
    {
      "cell_type": "markdown",
      "metadata": {
        "id": "axJSp0frUJTm",
        "colab_type": "text"
      },
      "source": [
        "2)Articles that don't belong to neither of the five categories"
      ]
    },
    {
      "cell_type": "code",
      "metadata": {
        "id": "UQ-eperhSICX",
        "colab_type": "code",
        "colab": {
          "base_uri": "https://localhost:8080/",
          "height": 54
        },
        "outputId": "f9a7829f-8507-47ea-abf6-2c62bff0682b"
      },
      "source": [
        "# Weather\n",
        "\n",
        "text = \"\"\"\n",
        "A polar air mass that entered the Iberian peninsula on Wednesday has already caused sharp drops in temperature, but the worst is yet to come, said the national weather service Aemet.\n",
        "\n",
        "“An episode of intense cold” is forecast for Friday, when the mercury will continue to plummet across much of Spain. Thirty provinces are on yellow alert, the lowest on a three-color scale, except for Guadalajara, where there is an orange advisory in place. Lows of -10 ºC are expected in Parameras de Molina.\n",
        "\n",
        "Elsewhere, weather stations have recorded -8.2ºC in La Molina (Girona), at an elevation of 1,700 meters, and -6.8ºC in Puerto de Navacerrada (Madrid).\n",
        "\n",
        " Almería has rolled out vehicles to deal with wintry road conditions.\n",
        "Almería has rolled out vehicles to deal with wintry road conditions. DIPUTACIÓN DE ALMERÍA EUROPA PRESS\n",
        "Aemet spokesman Rubén del Campo said that the cold spell is not out of the ordinary for a month of January, and noted that “we are emerging from a warm December when temperatures were 1.2ºC above average.”\n",
        "\n",
        "Temperatures have already dipped between six and eight degrees in a matter of hours in some parts of Spain, said Del Campo. And the northerly wind will increase the feeling of cold.\n",
        "\n",
        "Temperatures on Friday and Saturday will be “very cold, with lows of five to 10 degrees below average in many parts of northern and eastern Spain, and in the Balearics,” he added.\n",
        "\n",
        "No snow\n",
        "However, little to no snow is expected “not for lack of cold, but for lack of precipitation, since the air mass is very dry.”\n",
        "\n",
        "Alerts are in place in Almería, Granada, Jaén, Aragón, Cantabria, Castilla-La Mancha, Castilla y León except for Salamanca and Valladolid, Catalonia save for Tarragona, Madrid, Navarre, the Valencia region, the Balearic Islands, La Rioja, Asturias and Murcia.\n",
        "\n",
        "On Saturday, the orange warnings will extend to Córdoba, Salamanca, Valladolid, Galicia and Lleida, where lows of -10 ºC are expected in the Vall d’Aran.\n",
        "\n",
        "\n",
        "\"\"\"\n",
        "\n",
        "predict_from_text(text)"
      ],
      "execution_count": null,
      "outputs": [
        {
          "output_type": "stream",
          "text": [
            "The predicted category using the SVM model is business.\n",
            "The conditional probability is: 63.256054871409084\n"
          ],
          "name": "stdout"
        }
      ]
    },
    {
      "cell_type": "code",
      "metadata": {
        "id": "ikLJY-VVUG8X",
        "colab_type": "code",
        "colab": {
          "base_uri": "https://localhost:8080/",
          "height": 54
        },
        "outputId": "f62c3b2a-eff2-4f6a-91d3-d508b0a4f3df"
      },
      "source": [
        "# Animal abuse\n",
        "\n",
        "text = \"\"\"\n",
        "Spain’s animal rights party PACMA posted a 38-second video on Twitter on Friday showing a man freeing a fox from a cage, before hunters immediately start shooting at it.\n",
        "\n",
        "“Hunters shut what appears to be a fox in a cage and let it out only to pepper it with bullets,” says the accompanying text. “Another ‘isolated case’ as the hunting lobby refers to it. Every week, a trickle of ‘isolated cases.’ In fact, they are dangerous psychopaths with a rifle and a license to carry arms.”\n",
        "At the start of the video, a man teases the caged animal with a stick. When the cage door is opened, the animal makes a run for it, but is shot at by men armed with rifles who are waiting by the cage.\n",
        "\n",
        "The release of the video, which has had 255,000 views, coincided with the launch of PACMA’s campaign against the start of fox-hunting season in Galicia. “Fox-hunting season in Galicia has started: hunts that hide behind environmental excuses, championships in which the only reason to compete is to kill. The hunters will be entitled to pursue and kill thousands of foxes in the countryside,” states PACMA.\n",
        "\n",
        "As it notes on its website, PACMA is the only political group that opposes hunting, and it is currently demanding a nationwide ban. “No animal should die under fire,” say the group. “We will fight tirelessly until hunting becomes a crime.”\n",
        "\n",
        "No animal should die under fire. We will fight tirelessly until hunting becomes a crime\n",
        "\n",
        "PACMA\n",
        "\n",
        "The animal rights group is preparing a report to send to the regional government of Galicia against fox hunts. “We are working hard to make it the first Spanish region to assign resources to protecting foxes instead of killing them,” says a source at PACMA.\n",
        "\n",
        "Last month, a Spanish hunter who was filmed while he chased and tortured a fox was identified by the Civil Guard in the Spanish province of Huesca. The man, aged 35, is facing charges of crimes against wildlife.\n",
        "\n",
        "And in November, animal rights groups and political parties reacted with indignation over a viral video shot in Cáceres province of 12 hunting dogs falling off a cliff edge, followed by the deer they were attacking.\n",
        "\n",
        "\"\"\"\n",
        "\n",
        "predict_from_text(text)"
      ],
      "execution_count": null,
      "outputs": [
        {
          "output_type": "stream",
          "text": [
            "The predicted category using the SVM model is entertainment.\n",
            "The conditional probability is: 51.205118632469016\n"
          ],
          "name": "stdout"
        }
      ]
    },
    {
      "cell_type": "markdown",
      "metadata": {
        "id": "Rglv0kWyU9Cd",
        "colab_type": "text"
      },
      "source": [
        "In these cases, the highest probability is much lower, ranging from 40% to 63%."
      ]
    },
    {
      "cell_type": "markdown",
      "metadata": {
        "id": "uA5I1gsXVGvJ",
        "colab_type": "text"
      },
      "source": [
        "Threshold"
      ]
    },
    {
      "cell_type": "markdown",
      "metadata": {
        "id": "r7QPFt7PVJ6w",
        "colab_type": "text"
      },
      "source": [
        "Taking this into account, we will fix the threshold at 65%. This means that if the class with the highest probability has its probability lower than 65%, the article will be tagged as Other."
      ]
    }
  ]
}